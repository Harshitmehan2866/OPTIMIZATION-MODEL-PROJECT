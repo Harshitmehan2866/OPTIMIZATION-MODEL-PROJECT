{
 "cells": [
  {
   "cell_type": "markdown",
   "id": "df72975b",
   "metadata": {},
   "source": [
    "# 🏭 Product Mix Optimization Problem\n",
    "\n",
    "A company manufactures two products: **Product A** and **Product B**.\n",
    "\n",
    "Each product requires a certain amount of **labor hours** and **raw material (in kg)** to produce. The company has limited resources available and wants to maximize profit.\n",
    "\n",
    "### ➕ Details:\n",
    "\n",
    "| Resource   | Product A | Product B | Availability |\n",
    "|------------|-----------|-----------|--------------|\n",
    "| Labor (hrs)|    2      |    3      | 100 hrs      |\n",
    "| Material (kg) | 1     |    2      | 80 kg        |\n",
    "\n",
    "- **Profit per unit of Product A** = ₹40  \n",
    "- **Profit per unit of Product B** = ₹50\n",
    "\n",
    "### 🎯 Objective:\n",
    "Determine how many units of Product A and Product B to produce in order to **maximize total profit**, without exceeding available resources.\n",
    "\n",
    "### ⚙️ Constraints:\n",
    "- Labor: 2 × A + 3 × B ≤ 100\n",
    "- Material: 1 × A + 2 × B ≤ 80\n",
    "- A, B ≥ 0 and integers\n",
    "\n",
    "We’ll solve this problem using **Linear Programming (LP)** in Python with the `PuLP` library.\n"
   ]
  },
  {
   "cell_type": "markdown",
   "id": "e0700f9d",
   "metadata": {},
   "source": []
  },
  {
   "cell_type": "code",
   "execution_count": 1,
   "id": "88f83faa",
   "metadata": {},
   "outputs": [],
   "source": [
    "from pulp import LpMaximize, LpProblem, LpVariable, LpStatus, value\n"
   ]
  },
  {
   "cell_type": "code",
   "execution_count": 2,
   "id": "5f05cd80",
   "metadata": {},
   "outputs": [],
   "source": [
    "# Step 1: Create a linear programming problem instance\n",
    "model = LpProblem(name=\"product_mix_optimization\", sense=LpMaximize)\n"
   ]
  },
  {
   "cell_type": "code",
   "execution_count": 3,
   "id": "1216cc5a",
   "metadata": {},
   "outputs": [],
   "source": [
    "# Step 2: Define decision variables\n",
    "A = LpVariable(name=\"Product_A_units\", lowBound=0, cat='Integer')\n",
    "B = LpVariable(name=\"Product_B_units\", lowBound=0, cat='Integer')\n"
   ]
  },
  {
   "cell_type": "code",
   "execution_count": 4,
   "id": "4f38409e",
   "metadata": {},
   "outputs": [],
   "source": [
    "# Step 3: Define the objective function\n",
    "model += 40 * A + 50 * B, \"Total_Profit\"\n"
   ]
  },
  {
   "cell_type": "code",
   "execution_count": 5,
   "id": "656699af",
   "metadata": {},
   "outputs": [],
   "source": [
    "# Step 4: Add constraints\n",
    "\n",
    "# Labor constraint: 2A + 3B ≤ 100\n",
    "model += (2 * A + 3 * B <= 100), \"Labor_Constraint\"\n",
    "\n",
    "# Material constraint: 1A + 2B ≤ 80\n",
    "model += (A + 2 * B <= 80), \"Material_Constraint\"\n"
   ]
  },
  {
   "cell_type": "code",
   "execution_count": 6,
   "id": "24826d3a",
   "metadata": {},
   "outputs": [
    {
     "data": {
      "text/plain": [
       "1"
      ]
     },
     "execution_count": 6,
     "metadata": {},
     "output_type": "execute_result"
    }
   ],
   "source": [
    "# Step 5: Solve the model\n",
    "model.solve()\n"
   ]
  },
  {
   "cell_type": "code",
   "execution_count": 7,
   "id": "ebebbf22",
   "metadata": {},
   "outputs": [
    {
     "name": "stdout",
     "output_type": "stream",
     "text": [
      "Status: Optimal\n",
      "Produce 50.0 units of Product A\n",
      "Produce 0.0 units of Product B\n",
      "Maximum Profit: ₹2000.0\n"
     ]
    }
   ],
   "source": [
    "# Step 6: Output the results\n",
    "print(f\"Status: {LpStatus[model.status]}\")\n",
    "print(f\"Produce {A.varValue} units of Product A\")\n",
    "print(f\"Produce {B.varValue} units of Product B\")\n",
    "print(f\"Maximum Profit: ₹{value(model.objective)}\")\n"
   ]
  },
  {
   "cell_type": "code",
   "execution_count": null,
   "id": "a2eea65e",
   "metadata": {},
   "outputs": [],
   "source": []
  },
  {
   "cell_type": "markdown",
   "id": "cf08935c",
   "metadata": {},
   "source": [
    "## 💡 Optimization Results & Insights\n",
    "\n",
    "Based on the model solution:\n",
    "\n",
    "- ✅ Produce **50.0 units** of **Product A**\n",
    "- ✅ Produce **0.0 units** of **Product B**\n",
    "- 💰 The maximum profit achieved is **₹2000.00**\n",
    "\n",
    "### 📊 Resource Usage:\n",
    "\n",
    "| Resource   | Used         | Available     |\n",
    "|------------|--------------|---------------|\n",
    "| Labor (hrs)| 2×X + 3×Y    | 100 hrs       |\n",
    "| Material   | 1×X + 2×Y    | 80 kg         |\n",
    "\n",
    "### 🔍 Insights:\n",
    "- The company should allocate resources to produce more of the product that gives better profit per resource used.\n",
    "- The model ensures **none of the constraints are violated** (no overuse of labor or materials).\n",
    "- This optimization method helps in **data-driven production planning**.\n"
   ]
  },
  {
   "cell_type": "code",
   "execution_count": 8,
   "id": "2e022da5",
   "metadata": {},
   "outputs": [
    {
     "name": "stdout",
     "output_type": "stream",
     "text": [
      "📊 Resource Usage Summary:\n",
      "➡️ Labor used: 100.0 / 100 hours\n",
      "➡️ Material used: 50.0 / 80 kg\n"
     ]
    }
   ],
   "source": [
    "# Calculate resource usage based on the model's solution\n",
    "labor_used = 2 * A.varValue + 3 * B.varValue\n",
    "material_used = 1 * A.varValue + 2 * B.varValue\n",
    "\n",
    "print(\"📊 Resource Usage Summary:\")\n",
    "print(f\"➡️ Labor used: {labor_used} / 100 hours\")\n",
    "print(f\"➡️ Material used: {material_used} / 80 kg\")\n"
   ]
  },
  {
   "cell_type": "code",
   "execution_count": 9,
   "id": "6222206c",
   "metadata": {},
   "outputs": [
    {
     "name": "stdout",
     "output_type": "stream",
     "text": [
      "Requirement already satisfied: matplotlib in c:\\users\\sapna\\appdata\\local\\programs\\python\\python313\\lib\\site-packages (3.10.3)\n",
      "Requirement already satisfied: contourpy>=1.0.1 in c:\\users\\sapna\\appdata\\local\\programs\\python\\python313\\lib\\site-packages (from matplotlib) (1.3.2)\n",
      "Requirement already satisfied: cycler>=0.10 in c:\\users\\sapna\\appdata\\local\\programs\\python\\python313\\lib\\site-packages (from matplotlib) (0.12.1)\n",
      "Requirement already satisfied: fonttools>=4.22.0 in c:\\users\\sapna\\appdata\\local\\programs\\python\\python313\\lib\\site-packages (from matplotlib) (4.58.4)\n",
      "Requirement already satisfied: kiwisolver>=1.3.1 in c:\\users\\sapna\\appdata\\local\\programs\\python\\python313\\lib\\site-packages (from matplotlib) (1.4.8)\n",
      "Requirement already satisfied: numpy>=1.23 in c:\\users\\sapna\\appdata\\local\\programs\\python\\python313\\lib\\site-packages (from matplotlib) (2.3.1)\n",
      "Requirement already satisfied: packaging>=20.0 in c:\\users\\sapna\\appdata\\local\\programs\\python\\python313\\lib\\site-packages (from matplotlib) (25.0)\n",
      "Requirement already satisfied: pillow>=8 in c:\\users\\sapna\\appdata\\local\\programs\\python\\python313\\lib\\site-packages (from matplotlib) (11.2.1)\n",
      "Requirement already satisfied: pyparsing>=2.3.1 in c:\\users\\sapna\\appdata\\local\\programs\\python\\python313\\lib\\site-packages (from matplotlib) (3.2.3)\n",
      "Requirement already satisfied: python-dateutil>=2.7 in c:\\users\\sapna\\appdata\\local\\programs\\python\\python313\\lib\\site-packages (from matplotlib) (2.9.0.post0)\n",
      "Requirement already satisfied: six>=1.5 in c:\\users\\sapna\\appdata\\local\\programs\\python\\python313\\lib\\site-packages (from python-dateutil>=2.7->matplotlib) (1.17.0)\n"
     ]
    }
   ],
   "source": [
    "!pip install matplotlib\n"
   ]
  },
  {
   "cell_type": "code",
   "execution_count": 10,
   "id": "d410c36b",
   "metadata": {},
   "outputs": [
    {
     "data": {
      "image/png": "[encoded data removed]",
      "text/plain": [
       "<Figure size 640x480 with 1 Axes>"
      ]
     },
     "metadata": {},
     "output_type": "display_data"
    }
   ],
   "source": [
    "import matplotlib.pyplot as plt\n",
    "\n",
    "# Resource labels\n",
    "resources = ['Labor (hrs)', 'Material (kg)']\n",
    "\n",
    "# Used resource values (from model)\n",
    "used = [labor_used, material_used]\n",
    "\n",
    "# Available limits\n",
    "available = [100, 80]\n",
    "\n",
    "# Set up position for bars\n",
    "x = range(len(resources))\n",
    "\n",
    "# Plot bar chart\n",
    "plt.bar(x, available, width=0.4, label='Available', align='center', color='lightgray')\n",
    "plt.bar(x, used, width=0.4, label='Used', align='edge', color='skyblue')\n",
    "\n",
    "# Formatting\n",
    "plt.xticks(x, resources)\n",
    "plt.ylabel(\"Units\")\n",
    "plt.title(\"Resource Usage: Used vs Available\")\n",
    "plt.legend()\n",
    "plt.tight_layout()\n",
    "plt.show()\n"
   ]
  },
  {
   "cell_type": "code",
   "execution_count": null,
   "id": "adf4f2a3",
   "metadata": {},
   "outputs": [],
   "source": []
  }
 ],
 "metadata": {
  "kernelspec": {
   "display_name": "Python 3",
   "language": "python",
   "name": "python3"
  },
  "language_info": {
   "codemirror_mode": {
    "name": "ipython",
    "version": 3
   },
   "file_extension": ".py",
   "mimetype": "text/x-python",
   "name": "python",
   "nbconvert_exporter": "python",
   "pygments_lexer": "ipython3",
   "version": "3.13.2"
  }
 },
 "nbformat": 4,
 "nbformat_minor": 5
}
